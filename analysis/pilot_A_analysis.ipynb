{
 "cells": [
  {
   "cell_type": "code",
   "execution_count": null,
   "metadata": {},
   "outputs": [],
   "source": [
    "# this code is adapted from Tyler's analysis code in his first replication:\n",
    "\n",
    "import warnings; warnings.simplefilter('ignore')\n",
    "import json, pymongo, pandas, scipy\n",
    "import numpy as np\n",
    "from pilotA_dataclean import extract_data"
   ]
  },
  {
   "cell_type": "code",
   "execution_count": null,
   "metadata": {},
   "outputs": [],
   "source": [
    "% pylab inline"
   ]
  },
  {
   "cell_type": "code",
   "execution_count": null,
   "metadata": {},
   "outputs": [],
   "source": [
    "def preprocess_subject(subject_data, key_map): \n",
    "    \n",
    "    subject_gen = subject_data[subject_data.stage=='generalization']\n",
    "    subject_gen = subject_gen[subject_gen.valence!='control']\n",
    "    subject_gen['distance'] = np.abs(subject_gen['distance'])\n",
    "    \n",
    "    if key_map=='first': \n",
    "        responses = {81:'negative',80:'positive',32:'neutral',None:None}\n",
    "    else: \n",
    "        responses = {80:'negative',81:'positive',32:'neutral',None:None}\n",
    "        \n",
    "    subject_gen['response'] = [responses[i] for i in subject_gen.key_press.values]\n",
    "    \n",
    "    return subject_gen"
   ]
  },
  {
   "cell_type": "code",
   "execution_count": null,
   "metadata": {},
   "outputs": [],
   "source": [
    "def generalization_curves(gen_data, data_type, name): \n",
    "\n",
    "    gen_curves = {}\n",
    "    distances = np.sort(gen_data['distance'].unique())\n",
    "    colores = {'positive':'red', 'negative':'blue'}\n",
    "\n",
    "    for i_valence in ['positive', 'negative']: \n",
    "\n",
    "        gen_rates = [] \n",
    "        gen_sems = []\n",
    "        \n",
    "        for i_distance in distances: \n",
    "\n",
    "            conditions = (gen_data.valence==i_valence) * (gen_data.distance==i_distance)\n",
    "            \n",
    "            if data_type == 'valence': \n",
    "                choices = gen_data.response[conditions] == gen_data.valence[conditions]\n",
    "            elif data_type == 'rt': \n",
    "                choices = gen_data.rt[conditions]\n",
    "                choices = [i for i in choices if i != None]\n",
    "            \n",
    "            gen_rates.append(mean(choices))\n",
    "            gen_sems.append(scipy.stats.sem(choices))\n",
    "            \n",
    "        gen_rates = np.array(gen_rates)\n",
    "        gen_sems = np.array(gen_sems)\n",
    "        gen_curves[i_valence] = gen_rates\n",
    "        plot(distances, gen_rates, linewidth=3, label=i_valence, color=colores[i_valence], alpha=.5)\n",
    "        fill_between(distances, gen_rates+gen_sems, gen_rates-gen_sems, alpha=.2, color=colores[i_valence])\n",
    "    \n",
    "    title(\"%s's pilot data!\"%name)\n",
    "    \n",
    "    if data_type == 'valence': ylabel('p( association_valence | tone )')\n",
    "    elif data_type == 'rt': \n",
    "        ylabel('Reaction time')\n",
    "        ylim([0,2000])\n",
    "    xlabel('Distance from original tone')\n",
    "    legend()\n"
   ]
  },
  {
   "cell_type": "code",
   "execution_count": null,
   "metadata": {},
   "outputs": [],
   "source": [
    "def get_pilot_subject(name_of_iteration): \n",
    "\n",
    "    # extract worker's data from mongo database\n",
    "    i_data = collection.find({'iteration_name':name_of_iteration})\n",
    "\n",
    "    ignore = ['trial_index', \n",
    "              'time_elapsed', \n",
    "              'stimulus', \n",
    "              'correct_response', \n",
    "              'internal_node_id', \n",
    "              'trial_type']\n",
    "\n",
    "    person_data = pandas.DataFrame()\n",
    "\n",
    "    for one_trial in i_data: \n",
    "\n",
    "        # extract all data we want \n",
    "        if 'worker_feedback' not in one_trial['trial_data'].keys(): \n",
    "            \n",
    "            q = {i:one_trial['trial_data'][i] for i in list(one_trial['trial_data'].keys()) if i not in ignore}\n",
    "            q['subject'] = one_trial['worker_id']\n",
    "            person_data = person_data.append(q, ignore_index=True)\n",
    "    \n",
    "    return person_data"
   ]
  },
  {
   "cell_type": "code",
   "execution_count": null,
   "metadata": {},
   "outputs": [],
   "source": [
    "# runs the extract_data() function in the pilotA_dataclean.py file, and then adds some more processing\n",
    "trial_data = extract_data()\n",
    "\n",
    "generalization_data = trial_data[trial_data.stage=='generalization']\n",
    "generalization_data = generalization_data[generalization_data.valence!='control']\n",
    "\n",
    "response_mapping = {80:'positive',81:'negative',32:'neutral'}\n",
    "generalization_data['response'] = [response_mapping[i] for i in generalization_data.key_press.values]\n",
    "generalization_data['distance'] = abs(generalization_data['distance'])\n",
    "\n",
    "main_question_conditions = (generalization_data.valence != 'control')\n",
    "valence_by_distance = generalization_data[main_question_conditions][['response', 'distance', 'valence']]"
   ]
  },
  {
   "cell_type": "code",
   "execution_count": null,
   "metadata": {},
   "outputs": [],
   "source": [
    "# look at the df to see what it looks like\n",
    "valence_by_distance[0:20]"
   ]
  },
  {
   "cell_type": "code",
   "execution_count": null,
   "metadata": {},
   "outputs": [],
   "source": [
    "# make basic pilot graphs\n",
    "colores = {'positive':'red', 'negative':'blue'}\n",
    "\n",
    "distances = np.sort(generalization_data.distance.unique())\n",
    "all_things = {'positive':[], 'negative':[]}\n",
    "\n",
    "for i_subject in generalization_data.subject.unique(): \n",
    "    \n",
    "    for i_valence in ['positive', 'negative']: \n",
    "        \n",
    "        things = [] \n",
    "        \n",
    "        for i_distance in distances: \n",
    "        \n",
    "            gen = generalization_data[generalization_data.subject==i_subject]\n",
    "            conditions = (gen.valence==i_valence)*(gen.distance==i_distance)\n",
    "            things.append(mean(gen.response[conditions] == gen.valence[conditions]))\n",
    "        \n",
    "        all_things[i_valence].append(things)\n",
    "        plot(distances, things, color=colores[i_valence], alpha=.1, linewidth=3)\n",
    "\n",
    "plot(distances, np.mean(all_things['positive'],0), color='red', linewidth=3, label='positive')\n",
    "plot(distances, np.mean(all_things['negative'],0), color='blue', linewidth=3, label='negative')\n",
    "title('Pilot A generalization curves')\n",
    "legend() ; "
   ]
  }
 ],
 "metadata": {
  "language_info": {
   "name": "python"
  },
  "orig_nbformat": 4
 },
 "nbformat": 4,
 "nbformat_minor": 2
}
